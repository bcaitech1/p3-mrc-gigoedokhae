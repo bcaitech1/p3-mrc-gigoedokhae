{
 "cells": [
  {
   "cell_type": "code",
   "execution_count": 96,
   "metadata": {},
   "outputs": [
    {
     "name": "stdout",
     "output_type": "stream",
     "text": [
      "/opt/ml/outputs/models/no9_xlm_roberta_fine_tuning_continue\n",
      "data is from /opt/ml/input/data/train_dataset\n",
      "model is from /opt/ml/outputs/models/no8_xlm_roberta_fine_tuning_continue/checkpoint-1176\n",
      "model uses device: cuda:0\n",
      "DatasetDict({\n",
      "    train: Dataset({\n",
      "        features: ['__index_level_0__', 'answers', 'context', 'document_id', 'id', 'question', 'title'],\n",
      "        num_rows: 3952\n",
      "    })\n",
      "    validation: Dataset({\n",
      "        features: ['__index_level_0__', 'answers', 'context', 'document_id', 'id', 'question', 'title'],\n",
      "        num_rows: 240\n",
      "    })\n",
      "})\n",
      "100%|█████████████████████████████████████████████| 4/4 [00:00<00:00, 23.02ba/s]\n",
      "100%|█████████████████████████████████████████████| 1/1 [00:00<00:00, 91.99ba/s]\n",
      "train dataset:\n",
      " Dataset({\n",
      "    features: ['answers', 'context', 'id', 'question', 'title'],\n",
      "    num_rows: 4192\n",
      "})\n",
      "100%|█████████████████████████████████████████████| 5/5 [00:05<00:00,  1.08s/ba]\n",
      "Init Trainer...\n",
      "  0%|                                                  | 0/8820 [00:00<?, ?it/s]/opt/conda/lib/python3.7/site-packages/torch/optim/lr_scheduler.py:123: UserWarning: Detected call of `lr_scheduler.step()` before `optimizer.step()`. In PyTorch 1.1.0 and later, you should call them in the opposite order: `optimizer.step()` before `lr_scheduler.step()`.  Failure to do this will result in PyTorch skipping the first value of the learning rate schedule. See more details at https://pytorch.org/docs/stable/optim.html#how-to-adjust-learning-rate\n",
      "  \"https://pytorch.org/docs/stable/optim.html#how-to-adjust-learning-rate\", UserWarning)\n",
      "{'loss': 1.5759, 'learning_rate': 5e-05, 'epoch': 0.85}                         \n",
      "{'loss': 0.7968, 'learning_rate': 5e-05, 'epoch': 1.7}                          \n",
      " 13%|████▋                              | 1176/8820 [1:04:10<5:14:20,  2.47s/it]Traceback (most recent call last):\n",
      "  File \"/opt/conda/lib/python3.7/site-packages/torch/serialization.py\", line 364, in save\n",
      "    _save(obj, opened_zipfile, pickle_module, pickle_protocol)\n",
      "  File \"/opt/conda/lib/python3.7/site-packages/torch/serialization.py\", line 483, in _save\n",
      "    zip_file.write_record(name, buf_value, len(buf_value))\n",
      "OSError: [Errno 28] No space left on device\n",
      "\n",
      "During handling of the above exception, another exception occurred:\n",
      "\n",
      "Traceback (most recent call last):\n",
      "  File \"train.py\", line 182, in <module>\n",
      "    main()\n",
      "  File \"train.py\", line 141, in main\n",
      "    train_result = trainer.train(resume_from_checkpoint=checkpoint)\n",
      "  File \"/opt/conda/lib/python3.7/site-packages/transformers/trainer.py\", line 1178, in train\n",
      "    self._maybe_log_save_evaluate(tr_loss, model, trial, epoch)\n",
      "  File \"/opt/conda/lib/python3.7/site-packages/transformers/trainer.py\", line 1269, in _maybe_log_save_evaluate\n",
      "    self._save_checkpoint(model, trial, metrics=metrics)\n",
      "  File \"/opt/conda/lib/python3.7/site-packages/transformers/trainer.py\", line 1319, in _save_checkpoint\n",
      "    torch.save(self.optimizer.state_dict(), os.path.join(output_dir, \"optimizer.pt\"))\n",
      "  File \"/opt/conda/lib/python3.7/site-packages/torch/serialization.py\", line 365, in save\n",
      "    return\n",
      "  File \"/opt/conda/lib/python3.7/site-packages/torch/serialization.py\", line 258, in __exit__\n",
      "    self.file_like.write_end_of_file()\n",
      "RuntimeError: [enforce fail at inline_container.cc:262] . unexpected pos 2269167744 vs 2269167632\n",
      "terminate called after throwing an instance of 'c10::Error'\n",
      "  what():  [enforce fail at inline_container.cc:262] . unexpected pos 2269167744 vs 2269167632\n",
      "frame #0: c10::ThrowEnforceNotMet(char const*, int, char const*, std::string const&, void const*) + 0x47 (0x7f86406df6c7 in /opt/conda/lib/python3.7/site-packages/torch/lib/libc10.so)\n",
      "frame #1: <unknown function> + 0x1feb390 (0x7f8674b43390 in /opt/conda/lib/python3.7/site-packages/torch/lib/libtorch_cpu.so)\n",
      "frame #2: <unknown function> + 0x1fe75c3 (0x7f8674b3f5c3 in /opt/conda/lib/python3.7/site-packages/torch/lib/libtorch_cpu.so)\n",
      "frame #3: caffe2::serialize::PyTorchStreamWriter::writeRecord(std::string const&, void const*, unsigned long, bool) + 0x17b (0x7f8674b4456b in /opt/conda/lib/python3.7/site-packages/torch/lib/libtorch_cpu.so)\n",
      "frame #4: caffe2::serialize::PyTorchStreamWriter::writeEndOfFile() + 0xe1 (0x7f8674b45101 in /opt/conda/lib/python3.7/site-packages/torch/lib/libtorch_cpu.so)\n",
      "frame #5: caffe2::serialize::PyTorchStreamWriter::~PyTorchStreamWriter() + 0x115 (0x7f8674b458f5 in /opt/conda/lib/python3.7/site-packages/torch/lib/libtorch_cpu.so)\n",
      "frame #6: <unknown function> + 0x5a5463 (0x7f8679fc7463 in /opt/conda/lib/python3.7/site-packages/torch/lib/libtorch_python.so)\n",
      "frame #7: <unknown function> + 0x26519e (0x7f8679c8719e in /opt/conda/lib/python3.7/site-packages/torch/lib/libtorch_python.so)\n",
      "frame #8: <unknown function> + 0x26676e (0x7f8679c8876e in /opt/conda/lib/python3.7/site-packages/torch/lib/libtorch_python.so)\n",
      "<omitting python frames>\n",
      "frame #22: __libc_start_main + 0xe7 (0x7f869545bbf7 in /lib/x86_64-linux-gnu/libc.so.6)\n",
      "\n",
      "Aborted (core dumped)\n",
      "Training End.\n"
     ]
    },
    {
     "ename": "OSError",
     "evalue": "[Errno 28] No space left on device: '/opt/ml/outputs/models/no9_xlm_roberta_fine_tuning_continue/zeof'",
     "output_type": "error",
     "traceback": [
      "\u001b[0;31m---------------------------------------------------------------------------\u001b[0m",
      "\u001b[0;31mOSError\u001b[0m                                   Traceback (most recent call last)",
      "\u001b[0;32m<ipython-input-96-cfa1ab2b2e61>\u001b[0m in \u001b[0;36m<module>\u001b[0;34m\u001b[0m\n\u001b[1;32m     25\u001b[0m \u001b[0;32mif\u001b[0m \u001b[0mos\u001b[0m\u001b[0;34m.\u001b[0m\u001b[0mpath\u001b[0m\u001b[0;34m.\u001b[0m\u001b[0misdir\u001b[0m\u001b[0;34m(\u001b[0m\u001b[0mmodel_output_path\u001b[0m\u001b[0;34m)\u001b[0m\u001b[0;34m:\u001b[0m\u001b[0;34m\u001b[0m\u001b[0;34m\u001b[0m\u001b[0m\n\u001b[1;32m     26\u001b[0m     \u001b[0meof_dir_path\u001b[0m \u001b[0;34m=\u001b[0m \u001b[0mmodel_output_path\u001b[0m \u001b[0;34m+\u001b[0m \u001b[0;34m\"/zeof\"\u001b[0m\u001b[0;34m\u001b[0m\u001b[0;34m\u001b[0m\u001b[0m\n\u001b[0;32m---> 27\u001b[0;31m     \u001b[0mos\u001b[0m\u001b[0;34m.\u001b[0m\u001b[0mmkdir\u001b[0m\u001b[0;34m(\u001b[0m\u001b[0meof_dir_path\u001b[0m\u001b[0;34m)\u001b[0m\u001b[0;34m\u001b[0m\u001b[0;34m\u001b[0m\u001b[0m\n\u001b[0m\u001b[1;32m     28\u001b[0m \u001b[0;34m\u001b[0m\u001b[0m\n\u001b[1;32m     29\u001b[0m \u001b[0;31m# 종료를 알리는 소리\u001b[0m\u001b[0;34m\u001b[0m\u001b[0;34m\u001b[0m\u001b[0;34m\u001b[0m\u001b[0m\n",
      "\u001b[0;31mOSError\u001b[0m: [Errno 28] No space left on device: '/opt/ml/outputs/models/no9_xlm_roberta_fine_tuning_continue/zeof'"
     ]
    },
    {
     "data": {
      "text/html": [
       "\n",
       "                <audio  controls=\"controls\" autoplay=\"autoplay\">\n",
       "                    <source src=\"http://www.soundjay.com/button/beep-07.wav\" type=\"audio/x-wav\" />\n",
       "                    Your browser does not support the audio element.\n",
       "                </audio>\n",
       "              "
      ],
      "text/plain": [
       "<IPython.lib.display.Audio object>"
      ]
     },
     "metadata": {},
     "output_type": "display_data"
    },
    {
     "data": {
      "text/html": [
       "\n",
       "                <audio  controls=\"controls\" autoplay=\"autoplay\">\n",
       "                    <source src=\"http://www.soundjay.com/button/beep-07.wav\" type=\"audio/x-wav\" />\n",
       "                    Your browser does not support the audio element.\n",
       "                </audio>\n",
       "              "
      ],
      "text/plain": [
       "<IPython.lib.display.Audio object>"
      ]
     },
     "metadata": {},
     "output_type": "display_data"
    },
    {
     "data": {
      "text/html": [
       "\n",
       "                <audio  controls=\"controls\" autoplay=\"autoplay\">\n",
       "                    <source src=\"http://www.soundjay.com/button/beep-07.wav\" type=\"audio/x-wav\" />\n",
       "                    Your browser does not support the audio element.\n",
       "                </audio>\n",
       "              "
      ],
      "text/plain": [
       "<IPython.lib.display.Audio object>"
      ]
     },
     "metadata": {},
     "output_type": "display_data"
    }
   ],
   "source": [
    "from utils import increment_path\n",
    "\n",
    "import os\n",
    "from IPython.lib.display import Audio\n",
    "import numpy as np\n",
    "\n",
    "# ********** CHANGE HERE (1/2): Name for the path of reader model to be saved **********\n",
    "exp_name = \"xlm_roberta_fine_tuning_continue\"\n",
    "# **************************************************************************************\n",
    "model_output_path = increment_path(\"/opt/ml/outputs/models\", \"/no\", exp_name)\n",
    "print(model_output_path)\n",
    "\n",
    "# ********** CHANGE HERE (2/2): Path of state of reader model if needed, else \"no\" (default). **********\n",
    "model_state_path = \"no\"\n",
    "#model_state_path = \"/opt/ml/outputs/models/no2_xlm_roberta_state_transfer_learning2/xlm-roberta-large_state_dict.pth\"\n",
    "# ******************************************************************************************************\n",
    "# seed == 42 (default)\n",
    "# ********** CHANGE with parser: train_korquad / save_state_only / num_train_epochs / learning_rate(transfer-learning > fine-tuning)\n",
    "model_path = \"/opt/ml/outputs/models/no8_xlm_roberta_fine_tuning_continue/checkpoint-1176\"\n",
    "!python train.py\\\n",
    "    --model_path $model_path\\\n",
    "    --train_korquad False\\\n",
    "    --save_state_only False\\\n",
    "    --model_state_path $model_state_path\\\n",
    "    \\\n",
    "    --output_dir $model_output_path\\\n",
    "    --fp16 True --fp16_opt_level \"O1\"\\\n",
    "    --dataloader_pin_memory True\\\n",
    "    --dataloader_drop_last False\\\n",
    "    \\\n",
    "    --num_train_epochs 15.0\\\n",
    "    --per_device_train_batch_size 4 --gradient_accumulation_steps 4\\\n",
    "    --save_strategy \"epoch\"\\\n",
    "    --save_total_limit 1\\\n",
    "    \\\n",
    "    --learning_rate 5e-5 --lr_scheduler_type \"constant\"\\\n",
    "    --warmup_ratio 0.1\\\n",
    "    --weight_decay 0.001 --adam_beta1 0.9 --adam_beta2 0.999 --adam_epsilon 1e-8\\\n",
    "    --adafactor False\\\n",
    "    --max_grad_norm 1.0\\\n",
    "    \\\n",
    "    --group_by_length False\\\n",
    "    --label_smoothing_factor 0.0\n",
    "\n",
    "print(\"Training End.\")\n",
    "\n",
    "# loop_inference.ipynb를 위해 EOI 폴더를 만듦\n",
    "if os.path.isdir(model_output_path):\n",
    "    eof_dir_path = model_output_path + \"/zeof\"\n",
    "    os.mkdir(eof_dir_path)\n",
    "\n",
    "# 종료를 알리는 소리\n",
    "def beep():\n",
    "    framerate = 4410\n",
    "    play_time_seconds = 2\n",
    "\n",
    "    t = np.linspace(0, play_time_seconds, framerate*play_time_seconds)\n",
    "    audio_data = np.sin(2*np.pi*300*t) + np.sin(2*np.pi*240*t)\n",
    "    return Audio(audio_data, rate=framerate, autoplay=True)\n",
    "beep()"
   ]
  },
  {
   "cell_type": "code",
   "execution_count": 99,
   "metadata": {},
   "outputs": [
    {
     "name": "stdout",
     "output_type": "stream",
     "text": [
      "data is from /opt/ml/input/data/test_dataset\n",
      "model is from xlm-roberta-large\n",
      "Dataset({\n",
      "    features: ['id', 'question'],\n",
      "    num_rows: 600\n",
      "})\n",
      "Lengths of unique contexts : 56607\n",
      "Passage Embedding Loaded.\n",
      "[Relevant documents exhaustive search.] done in 5.699 s\n",
      "Making DataFrame dataset:: 600it [00:00, 17431.36it/s]\n",
      "Traceback (most recent call last):\n",
      "  File \"inference.py\", line 117, in <module>\n",
      "    main()\n",
      "  File \"inference.py\", line 77, in main\n",
      "    load_from_cache_file=not data_args.overwrite_cache,\n",
      "  File \"/opt/conda/lib/python3.7/site-packages/datasets/arrow_dataset.py\", line 1407, in map\n",
      "    update_data = does_function_return_dict(test_inputs, test_indices)\n",
      "  File \"/opt/conda/lib/python3.7/site-packages/datasets/arrow_dataset.py\", line 1378, in does_function_return_dict\n",
      "    function(*fn_args, indices, **fn_kwargs) if with_indices else function(*fn_args, **fn_kwargs)\n",
      "  File \"inference.py\", line 73, in <lambda>\n",
      "    lambda example: prepare_validation_features(example, tokenizer, data_args),\n",
      "  File \"/opt/ml/code/utils_qa.py\", line 517, in prepare_validation_features\n",
      "    pad_on_right = tokenizer.padding_side == \"right\"\n",
      "AttributeError: 'BertTokenizer' object has no attribute 'padding_side'\n",
      "Inference End.\n"
     ]
    },
    {
     "data": {
      "text/html": [
       "\n",
       "                <audio  controls=\"controls\" autoplay=\"autoplay\">\n",
       "                    <source src=\"data:audio/wav;base64,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\" type=\"audio/wav\" />\n",
       "                    Your browser does not support the audio element.\n",
       "                </audio>\n",
       "              "
      ],
      "text/plain": [
       "<IPython.lib.display.Audio object>"
      ]
     },
     "execution_count": 99,
     "metadata": {},
     "output_type": "execute_result"
    },
    {
     "data": {
      "text/html": [
       "\n",
       "                <audio  controls=\"controls\" autoplay=\"autoplay\">\n",
       "                    <source src=\"http://www.soundjay.com/button/beep-07.wav\" type=\"audio/x-wav\" />\n",
       "                    Your browser does not support the audio element.\n",
       "                </audio>\n",
       "              "
      ],
      "text/plain": [
       "<IPython.lib.display.Audio object>"
      ]
     },
     "metadata": {},
     "output_type": "display_data"
    },
    {
     "data": {
      "text/html": [
       "\n",
       "                <audio  controls=\"controls\" autoplay=\"autoplay\">\n",
       "                    <source src=\"http://www.soundjay.com/button/beep-07.wav\" type=\"audio/x-wav\" />\n",
       "                    Your browser does not support the audio element.\n",
       "                </audio>\n",
       "              "
      ],
      "text/plain": [
       "<IPython.lib.display.Audio object>"
      ]
     },
     "metadata": {},
     "output_type": "display_data"
    },
    {
     "data": {
      "text/html": [
       "\n",
       "                <audio  controls=\"controls\" autoplay=\"autoplay\">\n",
       "                    <source src=\"http://www.soundjay.com/button/beep-07.wav\" type=\"audio/x-wav\" />\n",
       "                    Your browser does not support the audio element.\n",
       "                </audio>\n",
       "              "
      ],
      "text/plain": [
       "<IPython.lib.display.Audio object>"
      ]
     },
     "metadata": {},
     "output_type": "display_data"
    }
   ],
   "source": [
    "from utils import increment_path\n",
    "\n",
    "exp_name = \"KorBERT\"\n",
    "test_output_dir = increment_path(\"/opt/ml/outputs/preds\", \"/no\", exp_name)\n",
    "\n",
    "dataset_path = \"/opt/ml/input/data/test_dataset\"\n",
    "model_path = \"/opt/ml/outputs/models/no3_xlm_roberta_fine_tuning_tl1/checkpoint-882\"\n",
    "!python inference.py\\\n",
    "    --output_dir $test_output_dir\\\n",
    "    --topk 20\n",
    "\n",
    "print(\"Inference End.\")\n",
    "#--model_path $model_path\\\n",
    "\n",
    "# 종료를 알리는 소리\n",
    "def beep():\n",
    "    framerate = 4410\n",
    "    play_time_seconds = 2\n",
    "\n",
    "    t = np.linspace(0, play_time_seconds, framerate*play_time_seconds)\n",
    "    audio_data = np.sin(2*np.pi*300*t) + np.sin(2*np.pi*240*t)\n",
    "    return Audio(audio_data, rate=framerate, autoplay=True)\n",
    "beep()"
   ]
  },
  {
   "cell_type": "code",
   "execution_count": 216,
   "metadata": {},
   "outputs": [],
   "source": [
    "eval_output_dir = increment_path(\"./outputs/train_dataset\", \"/exp\", exp_name)\n",
    "!python train.py\\\n",
    "    --do_eval\\\n",
    "    --output_dir $eval_output_dir\\\n",
    "    --model_name_or_path $model_output_dir"
   ]
  },
  {
   "cell_type": "code",
   "execution_count": 3,
   "metadata": {},
   "outputs": [
    {
     "name": "stdout",
     "output_type": "stream",
     "text": [
      "Traceback (most recent call last):\n",
      "  File \"train.py\", line 348, in <module>\n",
      "    main()\n",
      "  File \"train.py\", line 34, in main\n",
      "    model_args, data_args, training_args = parser.parse_args_into_dataclasses()\n",
      "  File \"/opt/conda/lib/python3.7/site-packages/transformers/hf_argparser.py\", line 196, in parse_args_into_dataclasses\n",
      "    raise ValueError(f\"Some specified arguments are not used by the HfArgumentParser: {remaining_args}\")\n",
      "ValueError: Some specified arguments are not used by the HfArgumentParser: ['--', 'eval_accumulation_steps', '1', '--evaluation_strategy', 'epoch', '--logging_strategy', 'steps', '--logging_steps', '500', '--save_strategy', 'epoch', '--save_steps', '500', '--save_total_limit', '3', '--load_best_model_at_end', 'False', '--learning_rate', '5e-5', '--lr_scheduler_type', 'constant_with_warmup', '--warmup_ratio', '0.0', '--warmup_steps', '0', '--weight_decay', '0', '--adam_beta1', '0.9', '--adam_beta2', '0.999', '--adam_epsilon', '1e-8', '--adafactor', 'False', '--max_grad_norm', '1.0', '--group_by_length', 'False', '--label_smoothing_factor', '0.0', '--do_train']\n"
     ]
    }
   ],
   "source": [
    "!python train.py --do_train\\\n",
    "    --run_name None\\\n",
    "    --output_dir ./models/train_dataset --overwrite_output_dir False\\\n",
    "    --seed 42\\\n",
    "    --fp16 True --fp16_opt_level \"O1\"\\\n",
    "    --dataloader_num_workers 4\\\n",
    "    --dataloader_pin_memory True\\\n",
    "    --dataloader_drop_last False\\\n",
    "    \\\n",
    "    --num_train_epochs 10.0\\\n",
    "    --per_device_train_batch_size 16 --gradient_accumulation_steps 1\\\n",
    "    --per_device_eval_batch_size 16 -- eval_accumulation_steps 1\\\n",
    "    --evaluation_strategy \"epoch\"\\\n",
    "    --logging_strategy \"steps\" --logging_steps 500\\\n",
    "    --save_strategy \"epoch\"\\\n",
    "    --save_steps 500 --save_total_limit 3\\\n",
    "    --load_best_model_at_end False\\\n",
    "    \\\n",
    "    --learning_rate 5e-5 --lr_scheduler_type \"cosine\"\\\n",
    "    --warmup_ratio 0.0 --warmup_steps 0\\\n",
    "    --weight_decay 0.01 --adam_beta1 0.9 --adam_beta2 0.999 --adam_epsilon 1e-8\\\n",
    "    --adafactor False\\\n",
    "    --max_grad_norm 1.0\\\n",
    "    \\\n",
    "    --group_by_length False\\\n",
    "    --label_smoothing_factor 0.0"
   ]
  },
  {
   "cell_type": "code",
   "execution_count": null,
   "metadata": {},
   "outputs": [],
   "source": [
    "# class EvaluationStrategy, IntervalStrategy(ExplicitEnum):\n",
    "    NO = \"no\"\n",
    "    STEPS = \"steps\"\n",
    "    EPOCH = \"epoch\"\n",
    "\n",
    "# class SchedulerType(ExplicitEnum):\n",
    "    LINEAR = \"linear\"\n",
    "    COSINE = \"cosine\"\n",
    "    COSINE_WITH_RESTARTS = \"cosine_with_restarts\"\n",
    "    POLYNOMIAL = \"polynomial\"\n",
    "    CONSTANT = \"constant\"\n",
    "    CONSTANT_WITH_WARMUP = \"constant_with_warmup\"\n",
    "\n",
    "# fp16_opt_level: https://nvidia.github.io/apex/amp.html"
   ]
  },
  {
   "cell_type": "code",
   "execution_count": null,
   "metadata": {},
   "outputs": [],
   "source": []
  },
  {
   "cell_type": "code",
   "execution_count": null,
   "metadata": {},
   "outputs": [],
   "source": []
  }
 ],
 "metadata": {
  "kernelspec": {
   "display_name": "Python 3",
   "language": "python",
   "name": "python3"
  },
  "language_info": {
   "codemirror_mode": {
    "name": "ipython",
    "version": 3
   },
   "file_extension": ".py",
   "mimetype": "text/x-python",
   "name": "python",
   "nbconvert_exporter": "python",
   "pygments_lexer": "ipython3",
   "version": "3.7.7"
  },
  "metadata": {
   "interpreter": {
    "hash": "98b0a9b7b4eaaa670588a142fd0a9b87eaafe866f1db4228be72b4211d12040f"
   }
  }
 },
 "nbformat": 4,
 "nbformat_minor": 4
}
