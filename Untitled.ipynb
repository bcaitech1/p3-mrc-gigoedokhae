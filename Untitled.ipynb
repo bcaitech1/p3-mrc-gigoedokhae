{
 "cells": [
  {
   "cell_type": "code",
   "execution_count": 1,
   "id": "650296b7-c6a8-4057-99ef-db9cebd474fd",
   "metadata": {},
   "outputs": [
    {
     "name": "stdout",
     "output_type": "stream",
     "text": [
      "1\n",
      "0\n",
      "Tesla P40\n"
     ]
    }
   ],
   "source": [
    "import os\n",
    "import json\n",
    "import torch\n",
    "\n",
    "data_path=\"../input/data/\"\n",
    "context_path=\"wikipedia_documents.json\"\n",
    "print(torch.cuda.device_count())\n",
    "print(torch.cuda.current_device())\n",
    "print(torch.cuda.get_device_name(0))"
   ]
  },
  {
   "cell_type": "code",
   "execution_count": 2,
   "id": "1b41cd8f-eff7-44e7-8064-11e09645362d",
   "metadata": {},
   "outputs": [],
   "source": [
    "with open(os.path.join(data_path, context_path), \"r\") as f:\n",
    "    wiki = json.load(f)"
   ]
  },
  {
   "cell_type": "code",
   "execution_count": 3,
   "id": "fd32fda3-e39d-4887-8b7c-1f2b0219c92f",
   "metadata": {},
   "outputs": [
    {
     "data": {
      "text/plain": [
       "{'text': '이 문서는 나라 목록이며, 전 세계 206개 나라의 각 현황과 주권 승인 정보를 개요 형태로 나열하고 있다.\\n\\n이 목록은 명료화를 위해 두 부분으로 나뉘어 있다.\\n\\n# 첫 번째 부분은 바티칸 시국과 팔레스타인을 포함하여 유엔 등 국제 기구에 가입되어 국제적인 승인을 널리 받았다고 여기는 195개 나라를 나열하고 있다.\\n# 두 번째 부분은 일부 지역의 주권을 사실상 (데 팍토) 행사하고 있지만, 아직 국제적인 승인을 널리 받지 않았다고 여기는 11개 나라를 나열하고 있다.\\n\\n두 목록은 모두 가나다 순이다.\\n\\n일부 국가의 경우 국가로서의 자격에 논쟁의 여부가 있으며, 이 때문에 이러한 목록을 엮는 것은 매우 어렵고 논란이 생길 수 있는 과정이다. 이 목록을 구성하고 있는 국가를 선정하는 기준에 대한 정보는 \"포함 기준\" 단락을 통해 설명하였다. 나라에 대한 일반적인 정보는 \"국가\" 문서에서 설명하고 있다.',\n",
       " 'corpus_source': '위키피디아',\n",
       " 'url': 'TODO',\n",
       " 'domain': None,\n",
       " 'title': '나라 목록',\n",
       " 'author': None,\n",
       " 'html': None,\n",
       " 'document_id': 0}"
      ]
     },
     "execution_count": 3,
     "metadata": {},
     "output_type": "execute_result"
    }
   ],
   "source": [
    "wiki['0']"
   ]
  },
  {
   "cell_type": "code",
   "execution_count": 4,
   "id": "df55d5ed-117b-482e-b9cf-9aea17e13d3c",
   "metadata": {},
   "outputs": [
    {
     "data": {
      "text/plain": [
       "60613"
      ]
     },
     "execution_count": 4,
     "metadata": {},
     "output_type": "execute_result"
    }
   ],
   "source": [
    "len(wiki)"
   ]
  },
  {
   "cell_type": "code",
   "execution_count": 5,
   "id": "6c009bb6-cc34-4d26-8d27-48a78ed4e2d1",
   "metadata": {},
   "outputs": [
    {
     "name": "stdout",
     "output_type": "stream",
     "text": [
      "60613\n",
      "56737\n"
     ]
    }
   ],
   "source": [
    "# 중복된 문서가 약 3000개 정도 존재한다.\n",
    "print(len([v['text'] for v in wiki.values()]))\n",
    "print(len(list(set([v['text'] for v in wiki.values()]))))"
   ]
  },
  {
   "cell_type": "code",
   "execution_count": 6,
   "id": "0fe004f5-6f93-43e2-be8c-dd5145f7b7c2",
   "metadata": {},
   "outputs": [],
   "source": [
    "contexts = list(dict.fromkeys(set(v['text'] for v in wiki.values())))"
   ]
  },
  {
   "cell_type": "code",
   "execution_count": 7,
   "id": "6e06f9b9-f722-4cd4-80c6-a1e6ebee82f1",
   "metadata": {},
   "outputs": [],
   "source": [
    "ids = list(range(len(contexts)))"
   ]
  },
  {
   "cell_type": "code",
   "execution_count": 8,
   "id": "a57e9566-2b31-4abc-b2f8-eb7d700bf13a",
   "metadata": {},
   "outputs": [],
   "source": [
    "from sklearn.feature_extraction.text import TfidfVectorizer\n",
    "from konlpy.tag import Mecab\n",
    "\n",
    "mecab = Mecab()"
   ]
  },
  {
   "cell_type": "code",
   "execution_count": 9,
   "id": "e0f876c5-9576-40ae-9fdb-577f763d48fe",
   "metadata": {},
   "outputs": [],
   "source": [
    "def tokenize(texts):\n",
    "    return mecab.morphs(texts)\n",
    "\n",
    "\n",
    "# tfidfv = TfidfVectorizer(tokenizer=tokenize, ngram_range=(1, 2), max_features=100000) # 기존\n",
    "tokenized_contexts = [tokenize(context) for context in contexts]\n",
    "p_embedding, indexer = None, None"
   ]
  },
  {
   "cell_type": "code",
   "execution_count": 10,
   "id": "c40a01b7-6aa0-4af2-b2c7-b84c7638e8b1",
   "metadata": {},
   "outputs": [],
   "source": [
    "from rank_bm25 import BM25Plus\n",
    "\n",
    "def get_bm25_sparse():\n",
    "    return BM25Plus(tokenized_contexts)"
   ]
  },
  {
   "cell_type": "code",
   "execution_count": 11,
   "id": "468bb0d5-a9d5-419e-81bf-954c3cf83930",
   "metadata": {},
   "outputs": [],
   "source": [
    "bm25 = get_bm25_sparse()"
   ]
  },
  {
   "cell_type": "code",
   "execution_count": 12,
   "id": "968330ee-aeca-4536-bb0e-4de4fc60ddb3",
   "metadata": {},
   "outputs": [
    {
     "name": "stdout",
     "output_type": "stream",
     "text": [
      "{'title': '미국 상원', 'context': '미국 상의원 또는 미국 상원(United States Senate)은 양원제인 미국 의회의 상원이다.\\\\n\\\\n미국 부통령이 상원의장이 된다. 각 주당 2명의 상원의원이 선출되어 100명의 상원의원으로 구성되어 있다. 임기는 6년이며, 2년마다 50개주 중 1/3씩 상원의원을 새로 선출하여 연방에 보낸다.\\\\n\\\\n미국 상원은 미국 하원과는 다르게 미국 대통령을 수반으로 하는 미국 연방 행정부에 각종 동의를 하는 기관이다. 하원이 세금과 경제에 대한 권한, 대통령을 포함한 대다수의 공무원을 파면할 권한을 갖고 있는 국민을 대표하는 기관인 반면 상원은 미국의 주를 대표한다. 즉 캘리포니아주, 일리노이주 같이 주 정부와 주 의회를 대표하는 기관이다. 그로 인하여 군대의 파병, 관료의 임명에 대한 동의, 외국 조약에 대한 승인 등 신속을 요하는 권한은 모두 상원에게만 있다. 그리고 하원에 대한 견제 역할(하원의 법안을 거부할 권한 등)을 담당한다. 2년의 임기로 인하여 급진적일 수밖에 없는 하원은 지나치게 급진적인 법안을 만들기 쉽다. 대표적인 예로 건강보험 개혁 당시 하원이 미국 연방 행정부에게 퍼블릭 옵션(공공건강보험기관)의 조항이 있는 반면 상원의 경우 하원안이 지나치게 세금이 많이 든다는 이유로 퍼블릭 옵션 조항을 제외하고 비영리건강보험기관이나 보험회사가 담당하도록 한 것이다. 이 경우처럼 상원은 하원이나 내각책임제가 빠지기 쉬운 국가들의 국회처럼 걸핏하면 발생하는 의회의 비정상적인 사태를 방지하는 기관이다. 상원은 급박한 처리사항의 경우가 아니면 법안을 먼저 내는 경우가 드물고 하원이 만든 법안을 수정하여 다시 하원에 되돌려보낸다. 이러한 방식으로 단원제가 빠지기 쉬운 함정을 미리 방지하는 것이다.날짜=2017-02-05', 'question': '대통령을 포함한 미국의 행정부 견제권을 갖는 국가 기관은?', 'id': 'mrc-1-000067', 'answers': {'answer_start': [235], 'text': ['하원']}, 'document_id': 18293, '__index_level_0__': 42}\n",
      "{'question': \"유령'은 어느 행성에서 지구로 왔는가?\", 'id': 'mrc-1-000653'}\n"
     ]
    }
   ],
   "source": [
    "from datasets import (Dataset, load_from_disk)\n",
    "\n",
    "train_dataset = load_from_disk('/opt/ml/input/data/train_dataset')\n",
    "test_dataset = load_from_disk('/opt/ml/input/data/test_dataset')\n",
    "dataset = test_dataset['validation']\n",
    "print(train_dataset['train'][0])\n",
    "print(test_dataset['validation'][0])"
   ]
  },
  {
   "cell_type": "code",
   "execution_count": 13,
   "id": "9cc8c3f0-2584-41af-868d-666d77b215a0",
   "metadata": {},
   "outputs": [],
   "source": [
    "from tqdm.auto import tqdm\n",
    "import numpy as np\n",
    "import pandas as pd\n",
    "import torch\n",
    "\n",
    "def retrieve(dataset, topk=1):\n",
    "    # make retrieved result as dataframe\n",
    "    total = []\n",
    "    print('dataset: ', dataset)\n",
    "    for data in tqdm(dataset, desc='BM25 retrieval processing👾'):\n",
    "        scores = bm25.get_scores(tokenize(data['question']))\n",
    "        topk_indices = np.argsort(scores)[::-1][:topk]  # 내림차순 정렬해서 topk개의 인덱스 추출|\n",
    "        topk_retrieved = [contexts[i] for i in topk_indices]  # 추출한 인덱스에 해당하는 context 뽑아오기\n",
    "\n",
    "        tmp = {\n",
    "            \"question\": data[\"question\"],\n",
    "            \"id\": data['id'],\n",
    "            \"context_id\": topk_indices,  # retrieved id\n",
    "            \"context\": topk_retrieved  # retrieved document\n",
    "        }\n",
    "\n",
    "        if 'context' in data.keys() and 'answers' in data.keys():\n",
    "            tmp[\"original_context\"] = data['context']  # original document\n",
    "            tmp[\"answers\"] = data['answers']  # original answer\n",
    "        total.append(tmp)\n",
    "\n",
    "    cqas = pd.DataFrame(total)\n",
    "    return cqas"
   ]
  },
  {
   "cell_type": "code",
   "execution_count": 14,
   "id": "dbb96aad-9f61-4799-888b-a62b8ff0f5bc",
   "metadata": {},
   "outputs": [
    {
     "name": "stdout",
     "output_type": "stream",
     "text": [
      "Dataset({\n",
      "    features: ['id', 'question'],\n",
      "    num_rows: 600\n",
      "})\n",
      "dataset:  Dataset({\n",
      "    features: ['id', 'question'],\n",
      "    num_rows: 600\n",
      "})\n"
     ]
    },
    {
     "data": {
      "application/vnd.jupyter.widget-view+json": {
       "model_id": "1331df01f5b24091b50bd53af0c6ee80",
       "version_major": 2,
       "version_minor": 0
      },
      "text/plain": [
       "HBox(children=(FloatProgress(value=0.0, description='BM25 retrieval processing👾', max=600.0, style=ProgressSty…"
      ]
     },
     "metadata": {},
     "output_type": "display_data"
    },
    {
     "name": "stdout",
     "output_type": "stream",
     "text": [
      "\n",
      "                                         question            id context_id  \\\n",
      "0                           유령'은 어느 행성에서 지구로 왔는가?  mrc-1-000653     [7054]   \n",
      "1                 용병회사의 경기가 좋아진 것은 무엇이 끝난 이후부터인가?  mrc-1-001113    [19948]   \n",
      "2         돌푸스에게 불특정 기간동안 하원이 잠시 쉬는 것을 건의 받았던 인물은?  mrc-0-002191    [42304]   \n",
      "3            마오리언어와 영어, 뉴질랜드 수화를 공식 언어로 사용하는 나라는?  mrc-0-003951    [33089]   \n",
      "4                      디엔비엔푸 전투에서 보응우옌잡이 상대한 국가는?  mrc-1-001272     [5479]   \n",
      "..                                            ...           ...        ...   \n",
      "595                         타입 2 가이아 메모리을 만든 집단은?  mrc-0-002989     [2424]   \n",
      "596            장면이 정치보복에 반대하는 입장에서 처벌을 원치 않은 대상은?  mrc-0-001804    [18144]   \n",
      "597  콜드게임 중 어떠한 계기로 인해 잠시 중단된 뒤, 익일에 게임이 진행되는 것은?  mrc-0-003411    [56356]   \n",
      "598                            제2캐나다기갑여단이 상륙한 곳은?  mrc-0-003436    [40782]   \n",
      "599                     구립운석을 이루는 물질 중 널리 알려진 것은?  mrc-0-002605    [23903]   \n",
      "\n",
      "                                               context  \n",
      "0    [베피콜롬보\\n베피콜롬보는 수성 탐사 계획 중 하나로 ESA와 JAXA가 공동으로 ...  \n",
      "1    [디자인 플래닝(Design Planning)은 디자인을 전략적 관점에서 기획하고 ...  \n",
      "2    [1933년 3월, 투표 과정의 위법성에 대한 문제제기가 불거졌다. 당시 오스트리아...  \n",
      "3    [유럽인들의 아메리카와 오세아니아 식민지화로 인해 아메리카와 오세아니아의 문화적, ...  \n",
      "4    [1926년 학생 시절 베트남청년혁명당에 가입했고 1930년에 학생 파업을 지지했다...  \n",
      "..                                                 ...  \n",
      "595  [재단 X가 슈라우드(=소노자키 후미네)가 개발한 가이아 메모리의 테크놀로지를 분석...  \n",
      "596  [과거의 죄악에 대한 소급입법 적용을 반대하였다. 4.19 혁명 당시 사망한 사망자...  \n",
      "597  [《디스아너드 2》(Dishonored 2)는 아케인 스튜디오가 개발하고 베데스다 ...  \n",
      "598  [주노 해변\\n\\n주노 해변은 쿠르쇨르메르의 양쪽으로 뻗은 5마일 정도의 해변이었다...  \n",
      "599  [구립운석(球粒隕石, 콘드라이트)는 석질운석의 일종으로, 운석의 원석이 용융이나 분...  \n",
      "\n",
      "[600 rows x 4 columns]\n"
     ]
    }
   ],
   "source": [
    "print(dataset)\n",
    "print(retrieve(dataset, 1))"
   ]
  },
  {
   "cell_type": "code",
   "execution_count": 16,
   "id": "f9a776b5-3a9d-4a60-a24c-ad81e0077a57",
   "metadata": {},
   "outputs": [
    {
     "name": "stdout",
     "output_type": "stream",
     "text": [
      "['돌푸스', '에게', '불', '특정', '기간', '동안', '하원', '이', '잠시', '쉬', '는', '것', '을', '건', '의', '받', '았', '던', '인물', '은', '?']\n"
     ]
    }
   ],
   "source": [
    "print(mecab.morphs('돌푸스에게 불특정 기간동안 하원이 잠시 쉬는 것을 건의 받았던 인물은?'))"
   ]
  },
  {
   "cell_type": "code",
   "execution_count": null,
   "id": "cb38053e-d93a-4bb9-bd9b-de8ec340193b",
   "metadata": {},
   "outputs": [],
   "source": []
  }
 ],
 "metadata": {
  "kernelspec": {
   "display_name": "Python 3",
   "language": "python",
   "name": "python3"
  },
  "language_info": {
   "codemirror_mode": {
    "name": "ipython",
    "version": 3
   },
   "file_extension": ".py",
   "mimetype": "text/x-python",
   "name": "python",
   "nbconvert_exporter": "python",
   "pygments_lexer": "ipython3",
   "version": "3.7.7"
  }
 },
 "nbformat": 4,
 "nbformat_minor": 5
}
