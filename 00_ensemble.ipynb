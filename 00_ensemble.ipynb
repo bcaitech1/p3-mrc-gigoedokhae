{
 "cells": [
  {
   "cell_type": "code",
   "execution_count": 5,
   "id": "96f97cad-9349-46ba-b4dd-6f1b375e65f0",
   "metadata": {},
   "outputs": [],
   "source": [
    "import json\n",
    "\n",
    "def get_preds(path):\n",
    "    with open(path) as f:\n",
    "        return json.load(f) # dict\n",
    "\n",
    "paths = [\n",
    "    \"/opt/ml/outputs/preds/backup/no1_xlm_roberta/nbest_predictions.json\",\n",
    "    \"/opt/ml/outputs/preds/backup/no4_concat_korquad1_chckpt4413_top20/nbest_predictions.json\"\n",
    "]\n",
    "\n",
    "preds = [pred for pred in map(get_preds, paths)]\n"
   ]
  },
  {
   "cell_type": "code",
   "execution_count": 6,
   "id": "e1d3d046-8eb3-40d8-989c-8df5d5ff72d3",
   "metadata": {},
   "outputs": [
    {
     "name": "stdout",
     "output_type": "stream",
     "text": [
      "{\n",
      "    mrc-1-000653: [\n",
      "        {'start_logit': -1.940676212310791, 'end_logit': -2.005676507949829, 'text': '지구', 'probability': 0.3954400420188904},\n",
      "        {'start_logit': -2.849112033843994, 'end_logit': -2.2359774112701416, 'text': '니비루(행성X)', 'probability': 0.1266290843486786},\n",
      "        ...\n",
      "    ]},\n",
      "...\n",
      "}\n",
      "\n",
      "질문 개수: 600\n",
      "질문 당 예측 개수: 400\n"
     ]
    }
   ],
   "source": [
    "from pprint import pprint\n",
    "\n",
    "def pred_summary(pred: dict):\n",
    "    for id0, value_list in pred.items():\n",
    "        print_list = [\"{\", f\"    {id0}: [\", f\"        {value_list[0]},\", f\"        {value_list[1]},\", \"        ...\", \"    ]},\", \"...\", \"}\", \"\"]\n",
    "        for elt in print_list:\n",
    "            print(elt)\n",
    "        break\n",
    "        \n",
    "    print(\"질문 개수:\", len(pred))\n",
    "    print(\"질문 당 예측 개수:\", len(value_list))\n",
    "    \n",
    "pred_summary(preds[0])\n"
   ]
  },
  {
   "cell_type": "code",
   "execution_count": 20,
   "id": "72689f8a-5d1b-4543-9fba-8d0110513bd1",
   "metadata": {},
   "outputs": [],
   "source": [
    "from collections import defaultdict\n",
    "from operator import itemgetter\n",
    "\n",
    "\n",
    "def _get_text_scores(ans_lists):\n",
    "    text_scores = defaultdict(float)\n",
    "    for ans_list in ans_lists:\n",
    "        for ans in ans_list:\n",
    "            text_scores[ans[\"text\"]] += ans[\"probability\"]\n",
    "    return text_scores\n",
    "\n",
    "def _get_best_text(text_scores):\n",
    "    return max(text_scores.items(), key=itemgetter(1))[0]\n",
    "\n",
    "def get_ensemble_result(preds):\n",
    "    result = dict() # dict keeps input sequence order\n",
    "    for q_id, *ans_lists in zip(preds[0], *(pred.values() for pred in preds)):\n",
    "        text_scores = _get_text_scores(ans_lists)\n",
    "        best_text = _get_best_text(text_scores)\n",
    "        result[q_id] = best_text\n",
    "    return result\n",
    "\n",
    "ensemble_result = get_ensemble_result(preds)\n",
    "#ensemble_result"
   ]
  },
  {
   "cell_type": "code",
   "execution_count": 4,
   "id": "37d73a31-fcd6-42a7-87bb-f57904b94526",
   "metadata": {},
   "outputs": [],
   "source": [
    "from utils import increment_path\n",
    "\n",
    "def save_json(preds, path):\n",
    "    with open(path, \"w\") as f:\n",
    "            f.write(json.dumps(preds, indent=4, ensure_ascii=False) + \"\\n\")\n",
    "\n",
    "out_path = increment_path(\"/opt/ml/outputs/preds/\", infix=\"ensemble\", name=\"predictions.json\")\n",
    "save_json(ensemble_result, out_path)"
   ]
  },
  {
   "cell_type": "code",
   "execution_count": 21,
   "id": "6fb2f7bb-bacd-4dc8-9b3c-08c96b87fb50",
   "metadata": {},
   "outputs": [],
   "source": [
    "from collections import defaultdict\n",
    "from operator import itemgetter\n",
    "\n",
    "\n",
    "def _get_text_counts(ans_lists):\n",
    "    text_counts = defaultdict(int)\n",
    "    for ans_list in ans_lists:\n",
    "        for ans in ans_list:\n",
    "            text_counts[ans[\"text\"]] += 1\n",
    "    return text_counts\n",
    "\n",
    "def _get_text_scores(ans_lists):\n",
    "    text_scores = defaultdict(float)\n",
    "    for ans_list in ans_lists:\n",
    "        for ans in ans_list:\n",
    "            text_scores[ans[\"text\"]] += ans[\"probability\"]\n",
    "    return text_scores\n",
    "\n",
    "def _get_best_text(text_scores):\n",
    "    return max(text_scores.items(), key=itemgetter(1))[0]\n",
    "\n",
    "def get_ensemble_result(preds, exp=1.0):\n",
    "    result = dict() # dict keeps input sequence order\n",
    "    for q_id, *ans_lists in zip(preds[0], *(pred.values() for pred in preds)):\n",
    "        text_counts = _get_text_counts(ans_lists)\n",
    "        text_scores = _get_text_scores(ans_lists)\n",
    "        text_weighted_scores = {text: score*(count**exp) for text, score, count in zip(text_scores, text_scores.values(), text_counts.values())}\n",
    "        best_text = _get_best_text(text_weighted_scores)\n",
    "        result[q_id] = best_text\n",
    "    return result\n",
    "\n",
    "ensemble_result = get_ensemble_result(preds, exp=1)\n",
    "#ensemble_result"
   ]
  }
 ],
 "metadata": {
  "kernelspec": {
   "display_name": "Python 3",
   "language": "python",
   "name": "python3"
  },
  "language_info": {
   "codemirror_mode": {
    "name": "ipython",
    "version": 3
   },
   "file_extension": ".py",
   "mimetype": "text/x-python",
   "name": "python",
   "nbconvert_exporter": "python",
   "pygments_lexer": "ipython3",
   "version": "3.7.7"
  }
 },
 "nbformat": 4,
 "nbformat_minor": 5
}
